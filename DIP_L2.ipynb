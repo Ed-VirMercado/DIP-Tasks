{
  "nbformat": 4,
  "nbformat_minor": 0,
  "metadata": {
    "colab": {
      "provenance": [],
      "authorship_tag": "ABX9TyPAzmsMUsK9Ko7+mqLUqkyN",
      "include_colab_link": true
    },
    "kernelspec": {
      "name": "python3",
      "display_name": "Python 3"
    },
    "language_info": {
      "name": "python"
    }
  },
  "cells": [
    {
      "cell_type": "markdown",
      "metadata": {
        "id": "view-in-github",
        "colab_type": "text"
      },
      "source": [
        "<a href=\"https://colab.research.google.com/github/Ed-VirMercado/DIP-Tasks/blob/main/DIP_L2.ipynb\" target=\"_parent\"><img src=\"https://colab.research.google.com/assets/colab-badge.svg\" alt=\"Open In Colab\"/></a>"
      ]
    },
    {
      "cell_type": "markdown",
      "source": [
        "Evaluate sqrt(2) with 100 decimals"
      ],
      "metadata": {
        "id": "kW8ztHz1gCR4"
      }
    },
    {
      "cell_type": "code",
      "source": [
        "from sympy.interactive import printing\n",
        "\n",
        "printing.init_printing(use_latex=True)\n",
        "from sympy import Eq, solve_linear_system, Matrix\n",
        "import sympy as sym\n",
        "\n",
        "x = sym.Symbol('x')\n",
        "y = sym.Symbol('y')\n",
        "\n",
        "# Evaluate sqrt(2) with 100 decimals\n",
        "a = sym.N(sym.sqrt(2), 101)\n",
        "print(\"The result is: \", a)"
      ],
      "metadata": {
        "colab": {
          "base_uri": "https://localhost:8080/"
        },
        "id": "ti6CZTeKgGNd",
        "outputId": "76983f8a-058e-4120-f7e8-cc4c7e7e7581"
      },
      "execution_count": 9,
      "outputs": [
        {
          "output_type": "stream",
          "name": "stdout",
          "text": [
            "The result is:  1.4142135623730950488016887242096980785696718753769480731766797379907324784621070388503875343276415727\n"
          ]
        }
      ]
    },
    {
      "cell_type": "markdown",
      "source": [
        "Evaluate 1/2 + 1/3"
      ],
      "metadata": {
        "id": "rwUaFz-6gOqa"
      }
    },
    {
      "cell_type": "code",
      "source": [
        "b = sym.Rational(1, 2) + sym.Rational(1, 3)\n",
        "print(\"The total is: \", b)"
      ],
      "metadata": {
        "colab": {
          "base_uri": "https://localhost:8080/"
        },
        "id": "CDkBPDb8gQwm",
        "outputId": "42438c9d-4dfa-4f06-cb51-04695687b32b"
      },
      "execution_count": 10,
      "outputs": [
        {
          "output_type": "stream",
          "name": "stdout",
          "text": [
            "The total is:  5/6\n"
          ]
        }
      ]
    },
    {
      "cell_type": "markdown",
      "source": [
        "Expand (x+y)^6"
      ],
      "metadata": {
        "id": "O7FOkhxAgYGp"
      }
    },
    {
      "cell_type": "code",
      "source": [
        "c = sym.expand((x + y) ** 6)\n",
        "print(\"The expanded form using Pascal's Triangle is: \", c)"
      ],
      "metadata": {
        "colab": {
          "base_uri": "https://localhost:8080/"
        },
        "id": "a5z3Ji43gfbW",
        "outputId": "31d5be3d-f5e3-4d75-e9f7-f225abd2d353"
      },
      "execution_count": 11,
      "outputs": [
        {
          "output_type": "stream",
          "name": "stdout",
          "text": [
            "The expanded form using Pascal's Triangle is:  x**6 + 6*x**5*y + 15*x**4*y**2 + 20*x**3*y**3 + 15*x**2*y**4 + 6*x*y**5 + y**6\n"
          ]
        }
      ]
    },
    {
      "cell_type": "markdown",
      "source": [
        "Simplify sin(x)/cos(x)"
      ],
      "metadata": {
        "id": "iZSVZCGTgjsF"
      }
    },
    {
      "cell_type": "code",
      "source": [
        "d = sym.simplify(sym.sin(x) / sym.cos(x))\n",
        "print(\"The answer to this trigonometric identity is: \", d)"
      ],
      "metadata": {
        "colab": {
          "base_uri": "https://localhost:8080/"
        },
        "id": "8X_ilwnOglTT",
        "outputId": "8c0dd04b-f9db-4f25-ebfb-a9c8c40a1653"
      },
      "execution_count": 12,
      "outputs": [
        {
          "output_type": "stream",
          "name": "stdout",
          "text": [
            "The answer to this trigonometric identity is:  tan(x)\n"
          ]
        }
      ]
    },
    {
      "cell_type": "markdown",
      "source": [
        "Evaluate the limit of sin(x)/x as x approaches 0"
      ],
      "metadata": {
        "id": "U7-F8Np5gnDG"
      }
    },
    {
      "cell_type": "code",
      "source": [
        "e = sym.limit(sym.sin(x) / x, x, 0)\n",
        "print(\"Using L'Hopital: \", e)"
      ],
      "metadata": {
        "colab": {
          "base_uri": "https://localhost:8080/"
        },
        "id": "E_ndcguPgouB",
        "outputId": "a80b5476-5370-42e7-98e2-085b5b1f2fb8"
      },
      "execution_count": 13,
      "outputs": [
        {
          "output_type": "stream",
          "name": "stdout",
          "text": [
            "Using L'Hopital:  1\n"
          ]
        }
      ]
    },
    {
      "cell_type": "markdown",
      "source": [
        "Differentiate log(x) in terms of x"
      ],
      "metadata": {
        "id": "d_ED_THPgqtk"
      }
    },
    {
      "cell_type": "code",
      "source": [
        "f = sym.diff(sym.log(x), x)\n",
        "print(\"The answer to this identity is: \", f)"
      ],
      "metadata": {
        "colab": {
          "base_uri": "https://localhost:8080/"
        },
        "id": "KfF5xUymgr4Z",
        "outputId": "a6ca185b-375b-4c37-dcfe-d4966bb72290"
      },
      "execution_count": 14,
      "outputs": [
        {
          "output_type": "stream",
          "name": "stdout",
          "text": [
            "The answer to this identity is:  1/x\n"
          ]
        }
      ]
    },
    {
      "cell_type": "markdown",
      "source": [
        "Solve the systems of equation x + y = 2; 2x + y =0"
      ],
      "metadata": {
        "id": "m3wHBcf1guIR"
      }
    },
    {
      "cell_type": "code",
      "source": [
        "row1 = [1, 1, 2]\n",
        "row2 = [2, 1, 0]\n",
        "\n",
        "g = Matrix((row1, row2))\n",
        "\n",
        "h = solve_linear_system(g, x, y)\n",
        "print(\"The system yields: \", h)"
      ],
      "metadata": {
        "colab": {
          "base_uri": "https://localhost:8080/"
        },
        "id": "EcxBFlLigvu5",
        "outputId": "78e216d4-f38a-4882-9e99-82740fc06650"
      },
      "execution_count": 15,
      "outputs": [
        {
          "output_type": "stream",
          "name": "stdout",
          "text": [
            "The system yields:  {x: -2, y: 4}\n"
          ]
        }
      ]
    },
    {
      "cell_type": "markdown",
      "source": [
        "Are there boolean values x, y that make (~x | y) & (~y | x) true?"
      ],
      "metadata": {
        "id": "S63bv2tJgzAW"
      }
    },
    {
      "cell_type": "code",
      "source": [
        "i = sym.satisfiable((~x | y) & (~y | x))\n",
        "print(\"The boolean values that make this statement True are: \", i)"
      ],
      "metadata": {
        "colab": {
          "base_uri": "https://localhost:8080/"
        },
        "id": "yi52Y3y_g0Pn",
        "outputId": "ce8b6249-6591-4d75-f575-abe31b10fd78"
      },
      "execution_count": 16,
      "outputs": [
        {
          "output_type": "stream",
          "name": "stdout",
          "text": [
            "The boolean values that make this statement True are:  {x: False, y: False}\n"
          ]
        }
      ]
    }
  ]
}