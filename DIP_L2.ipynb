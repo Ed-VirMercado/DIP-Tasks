{
  "nbformat": 4,
  "nbformat_minor": 0,
  "metadata": {
    "colab": {
      "provenance": [],
      "authorship_tag": "ABX9TyP0YL6/mffieWLodFolsKlT",
      "include_colab_link": true
    },
    "kernelspec": {
      "name": "python3",
      "display_name": "Python 3"
    },
    "language_info": {
      "name": "python"
    }
  },
  "cells": [
    {
      "cell_type": "markdown",
      "metadata": {
        "id": "view-in-github",
        "colab_type": "text"
      },
      "source": [
        "<a href=\"https://colab.research.google.com/github/Ed-VirMercado/DIP-Tasks/blob/main/DIP_L2.ipynb\" target=\"_parent\"><img src=\"https://colab.research.google.com/assets/colab-badge.svg\" alt=\"Open In Colab\"/></a>"
      ]
    },
    {
      "cell_type": "markdown",
      "source": [
        "Evaluate sqrt(2) with 100 decimals"
      ],
      "metadata": {
        "id": "kW8ztHz1gCR4"
      }
    },
    {
      "cell_type": "code",
      "source": [
        "from sympy.interactive import printing\n",
        "\n",
        "printing.init_printing(use_latex=True)\n",
        "from sympy import Eq, solve_linear_system, Matrix\n",
        "import sympy as sym\n",
        "\n",
        "x = sym.Symbol('x')\n",
        "y = sym.Symbol('y')\n",
        "\n",
        "# Evaluate sqrt(2) with 100 decimals\n",
        "a = sym.N(sym.sqrt(2), 101)\n",
        "print(a)"
      ],
      "metadata": {
        "colab": {
          "base_uri": "https://localhost:8080/"
        },
        "id": "ti6CZTeKgGNd",
        "outputId": "5421c02c-f036-4433-da0b-e49ef8a9a30d"
      },
      "execution_count": 1,
      "outputs": [
        {
          "output_type": "stream",
          "name": "stdout",
          "text": [
            "1.4142135623730950488016887242096980785696718753769480731766797379907324784621070388503875343276415727\n"
          ]
        }
      ]
    },
    {
      "cell_type": "markdown",
      "source": [
        "Evaluate 1/2 + 1/3"
      ],
      "metadata": {
        "id": "rwUaFz-6gOqa"
      }
    },
    {
      "cell_type": "code",
      "source": [
        "b = sym.Rational(1, 2) + sym.Rational(1, 3)\n",
        "print(b)"
      ],
      "metadata": {
        "colab": {
          "base_uri": "https://localhost:8080/"
        },
        "id": "CDkBPDb8gQwm",
        "outputId": "f50e63ad-3f3c-4e7f-b800-0a3dfc75e294"
      },
      "execution_count": 2,
      "outputs": [
        {
          "output_type": "stream",
          "name": "stdout",
          "text": [
            "5/6\n"
          ]
        }
      ]
    },
    {
      "cell_type": "markdown",
      "source": [
        "Expand (x+y)^6"
      ],
      "metadata": {
        "id": "O7FOkhxAgYGp"
      }
    },
    {
      "cell_type": "code",
      "source": [
        "c = sym.expand((x + y) ** 6)\n",
        "print(c)"
      ],
      "metadata": {
        "colab": {
          "base_uri": "https://localhost:8080/"
        },
        "id": "a5z3Ji43gfbW",
        "outputId": "3db0d77b-c2d0-49dc-cfda-8c102be3f9ee"
      },
      "execution_count": 3,
      "outputs": [
        {
          "output_type": "stream",
          "name": "stdout",
          "text": [
            "x**6 + 6*x**5*y + 15*x**4*y**2 + 20*x**3*y**3 + 15*x**2*y**4 + 6*x*y**5 + y**6\n"
          ]
        }
      ]
    },
    {
      "cell_type": "markdown",
      "source": [
        "Simplify sin(x)/cos(x)"
      ],
      "metadata": {
        "id": "iZSVZCGTgjsF"
      }
    },
    {
      "cell_type": "code",
      "source": [
        "d = sym.simplify(sym.sin(x) / sym.cos(x))\n",
        "print(d)"
      ],
      "metadata": {
        "colab": {
          "base_uri": "https://localhost:8080/"
        },
        "id": "8X_ilwnOglTT",
        "outputId": "d43085f3-d59b-4ef2-b918-549a870e3265"
      },
      "execution_count": 4,
      "outputs": [
        {
          "output_type": "stream",
          "name": "stdout",
          "text": [
            "tan(x)\n"
          ]
        }
      ]
    },
    {
      "cell_type": "markdown",
      "source": [
        "Evaluate the limit of sin(x)/x as x approaches 0"
      ],
      "metadata": {
        "id": "U7-F8Np5gnDG"
      }
    },
    {
      "cell_type": "code",
      "source": [
        "e = sym.limit(sym.sin(x) / x, x, 0)\n",
        "print(e)"
      ],
      "metadata": {
        "colab": {
          "base_uri": "https://localhost:8080/"
        },
        "id": "E_ndcguPgouB",
        "outputId": "b1c53884-acb5-4a23-b89f-b5e857b4b9ab"
      },
      "execution_count": 5,
      "outputs": [
        {
          "output_type": "stream",
          "name": "stdout",
          "text": [
            "1\n"
          ]
        }
      ]
    },
    {
      "cell_type": "markdown",
      "source": [
        "Differentiate log(x) in terms of x"
      ],
      "metadata": {
        "id": "d_ED_THPgqtk"
      }
    },
    {
      "cell_type": "code",
      "source": [
        "f = sym.diff(sym.log(x), x)\n",
        "print(f)"
      ],
      "metadata": {
        "colab": {
          "base_uri": "https://localhost:8080/"
        },
        "id": "KfF5xUymgr4Z",
        "outputId": "6c83e4da-714b-4241-86d5-9aedf3d26f5a"
      },
      "execution_count": 6,
      "outputs": [
        {
          "output_type": "stream",
          "name": "stdout",
          "text": [
            "1/x\n"
          ]
        }
      ]
    },
    {
      "cell_type": "markdown",
      "source": [
        "Solve the systems of equation x + y = 2; 2x + y =0"
      ],
      "metadata": {
        "id": "m3wHBcf1guIR"
      }
    },
    {
      "cell_type": "code",
      "source": [
        "row1 = [1, 1, 2]\n",
        "row2 = [2, 1, 0]\n",
        "\n",
        "g = Matrix((row1, row2))\n",
        "\n",
        "h = solve_linear_system(g, x, y)\n",
        "print(h)"
      ],
      "metadata": {
        "colab": {
          "base_uri": "https://localhost:8080/"
        },
        "id": "EcxBFlLigvu5",
        "outputId": "26b79f2b-3c1d-4aa7-ace8-a2e729697a4d"
      },
      "execution_count": 7,
      "outputs": [
        {
          "output_type": "stream",
          "name": "stdout",
          "text": [
            "{x: -2, y: 4}\n"
          ]
        }
      ]
    },
    {
      "cell_type": "markdown",
      "source": [
        "Are there boolean values x, y that make (~x | y) & (~y | x) true?"
      ],
      "metadata": {
        "id": "S63bv2tJgzAW"
      }
    },
    {
      "cell_type": "code",
      "source": [
        "i = sym.satisfiable((~x | y) & (~y | x))\n",
        "print(i)"
      ],
      "metadata": {
        "colab": {
          "base_uri": "https://localhost:8080/"
        },
        "id": "yi52Y3y_g0Pn",
        "outputId": "df8c4827-59c5-46b9-f0db-e91f09c53155"
      },
      "execution_count": 8,
      "outputs": [
        {
          "output_type": "stream",
          "name": "stdout",
          "text": [
            "{x: False, y: False}\n"
          ]
        }
      ]
    }
  ]
}